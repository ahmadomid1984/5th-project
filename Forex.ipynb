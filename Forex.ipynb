{
 "cells": [
  {
   "cell_type": "code",
   "execution_count": 1,
   "metadata": {},
   "outputs": [],
   "source": [
    "import lightningchart as lc\n",
    "import random\n",
    "\n",
    "lc.set_license('P001-ZgAiXcls82XucLjGo1pNDBmgknE/FgAGIi2wGJsKgHy4pMYuLCxrxf4UXnNH-MEQCIE7WrKAMcHSuauBhMtQTwX3JPNSQPhQvdGJFy5GoAArCAiBsiHovJHY6pyh59fLdvj+QT5ld5MbewJXf7NsivQvsUw==')\n",
    "\n",
    "# Ignoring warnings\n",
    "import warnings\n",
    "warnings.simplefilter('ignore')\n",
    "\n",
    "# Importing necessary modules\n",
    "import sys\n",
    "import pandas as pd\n",
    "import numpy as np\n",
    "\n",
    "import sklearn\n",
    "from sklearn.linear_model import LinearRegression, SGDRegressor\n",
    "from sklearn.svm import SVR\n",
    "from sklearn.ensemble import BaggingRegressor, RandomForestRegressor, GradientBoostingRegressor\n",
    "from sklearn.preprocessing import StandardScaler, MinMaxScaler\n",
    "from sklearn.metrics import mean_squared_error, mean_absolute_error, r2_score\n",
    "import joblib\n",
    "from sklearn.model_selection import RandomizedSearchCV, GridSearchCV, train_test_split\n",
    "from scipy.stats import randint\n",
    "\n",
    "import xgboost\n",
    "from xgboost import XGBRegressor, DMatrix\n"
   ]
  },
  {
   "cell_type": "code",
   "execution_count": 2,
   "metadata": {},
   "outputs": [
    {
     "name": "stdout",
     "output_type": "stream",
     "text": [
      "Index(['open', 'high', 'low', 'close', 'volume'], dtype='object')\n"
     ]
    }
   ],
   "source": [
    "# Load the CSV file\n",
    "eu = pd.read_csv('./eu.csv', parse_dates=True, skipinitialspace=True)\n",
    "\n",
    "# Strip spaces from column names\n",
    "eu.columns = eu.columns.str.strip()\n",
    "\n",
    "# Now, you can safely drop the 'date' column if it's not needed\n",
    "eu.drop('date', axis='columns', inplace=True)\n",
    "\n",
    "# Print columns to verify the correction\n",
    "print(eu.columns)\n"
   ]
  },
  {
   "cell_type": "code",
   "execution_count": 3,
   "metadata": {
    "scrolled": true
   },
   "outputs": [
    {
     "data": {
      "text/plain": [
       "open      0\n",
       "high      0\n",
       "low       0\n",
       "close     0\n",
       "volume    0\n",
       "dtype: int64"
      ]
     },
     "execution_count": 3,
     "metadata": {},
     "output_type": "execute_result"
    }
   ],
   "source": [
    "eu.isna().sum()"
   ]
  },
  {
   "cell_type": "markdown",
   "metadata": {},
   "source": [
    "### Closing Price Line Chart"
   ]
  },
  {
   "cell_type": "code",
   "execution_count": 4,
   "metadata": {},
   "outputs": [
    {
     "data": {
      "text/html": [
       "\n",
       "        <iframe\n",
       "            width=\"100%\"\n",
       "            height=\"600\"\n",
       "            src=\"http://localhost:53311\"\n",
       "            frameborder=\"0\"\n",
       "            allowfullscreen\n",
       "            \n",
       "        ></iframe>\n",
       "        "
      ],
      "text/plain": [
       "<IPython.lib.display.IFrame at 0x190cd725580>"
      ]
     },
     "execution_count": 4,
     "metadata": {},
     "output_type": "execute_result"
    }
   ],
   "source": [
    "# Convert index to milliseconds for LightningChart\n",
    "eu['timestamp_ms'] = eu.index.astype('int64') // 10**6\n",
    "\n",
    "# Initialize the chart\n",
    "chart = lc.ChartXY(\n",
    "    theme=lc.Themes.Dark,\n",
    "    title='Euro vs USD'\n",
    ")\n",
    "\n",
    "# Get the x and y values from your DataFrame\n",
    "x_values = eu['timestamp_ms'].tolist()\n",
    "y_values = eu['close'].tolist()\n",
    "\n",
    "# Add the time series data to the chart\n",
    "series = chart.add_line_series().append_samples(\n",
    "    x_values=x_values,\n",
    "    y_values=y_values\n",
    ")\n",
    "series.set_line_thickness(2)  # Adjust the line thickness as needed\n",
    "\n",
    "# Customize the axes\n",
    "x_axis = chart.get_default_x_axis()\n",
    "x_axis.set_tick_strategy('DateTime')\n",
    "x_axis.set_title('Date')\n",
    "chart.get_default_y_axis().set_title('EUR/USD Exchange Rate')\n",
    "\n",
    "# Open the chart\n",
    "chart.open()\n"
   ]
  },
  {
   "cell_type": "code",
   "execution_count": 5,
   "metadata": {},
   "outputs": [],
   "source": [
    "#removing outliers above\n",
    "vol_cut_off = eu.volume.std()*3 + eu.volume.mean()\n",
    "eu.volume[eu.volume > vol_cut_off] = vol_cut_off"
   ]
  },
  {
   "cell_type": "code",
   "execution_count": 6,
   "metadata": {},
   "outputs": [],
   "source": [
    "#removing ouliers below\n",
    "vol_cut_off =  eu.volume.mean() - eu.volume.std()*3\n",
    "eu.volume[eu.volume < vol_cut_off] = vol_cut_off"
   ]
  },
  {
   "cell_type": "code",
   "execution_count": 7,
   "metadata": {},
   "outputs": [],
   "source": [
    "def generate_features(df):\n",
    "    df_new = pd.DataFrame()\n",
    "\n",
    "    # Copying original features and generating new ones\n",
    "    df_new['open'] = df['open']\n",
    "    df_new['open_1'] = df['open'].shift(1)\n",
    "    df_new['close_1'] = df['close'].shift(1)\n",
    "    df_new['high_1'] = df['high'].shift(1)\n",
    "    df_new['low_1'] = df['low'].shift(1)\n",
    "    df_new['volume_1'] = df['volume'].shift(1)\n",
    "\n",
    "    # Additional features based on rolling averages and standard deviations\n",
    "    df_new['avg_price_5'] = df['close'].rolling(window=5).mean().shift(1)\n",
    "    # Continue with other features as before...\n",
    "\n",
    "    # Standard deviations of prices\n",
    "    df_new['std_price_5'] = df['close'].rolling(window=5).std().shift(1)\n",
    "    # Continue with other features as before...\n",
    "\n",
    "    # Returns and moving averages of returns\n",
    "    df_new['return_1'] = ((df['close'] - df['close'].shift(1)) / df['close'].shift(1)).shift(1)\n",
    "    df_new['moving_avg_5'] = df_new['return_1'].rolling(window=5).mean()\n",
    "\n",
    "    # Set the target\n",
    "    df_new['close'] = df['close']\n",
    "    df_new = df_new.dropna(axis=0)  # Drop rows with NaN values\n",
    "    return df_new\n",
    "\n",
    "# Generate features with the corrected DataFrame\n",
    "data = generate_features(eu)\n"
   ]
  },
  {
   "cell_type": "code",
   "execution_count": 8,
   "metadata": {},
   "outputs": [
    {
     "data": {
      "text/html": [
       "<div>\n",
       "<style scoped>\n",
       "    .dataframe tbody tr th:only-of-type {\n",
       "        vertical-align: middle;\n",
       "    }\n",
       "\n",
       "    .dataframe tbody tr th {\n",
       "        vertical-align: top;\n",
       "    }\n",
       "\n",
       "    .dataframe thead th {\n",
       "        text-align: right;\n",
       "    }\n",
       "</style>\n",
       "<table border=\"1\" class=\"dataframe\">\n",
       "  <thead>\n",
       "    <tr style=\"text-align: right;\">\n",
       "      <th></th>\n",
       "      <th>open</th>\n",
       "      <th>open_1</th>\n",
       "      <th>close_1</th>\n",
       "      <th>high_1</th>\n",
       "      <th>low_1</th>\n",
       "      <th>volume_1</th>\n",
       "      <th>avg_price_5</th>\n",
       "      <th>std_price_5</th>\n",
       "      <th>return_1</th>\n",
       "      <th>moving_avg_5</th>\n",
       "      <th>close</th>\n",
       "    </tr>\n",
       "  </thead>\n",
       "  <tbody>\n",
       "    <tr>\n",
       "      <th>1971-01-12</th>\n",
       "      <td>0.5371</td>\n",
       "      <td>0.5371</td>\n",
       "      <td>0.5371</td>\n",
       "      <td>0.5371</td>\n",
       "      <td>0.5371</td>\n",
       "      <td>1.0</td>\n",
       "      <td>0.53682</td>\n",
       "      <td>0.000277</td>\n",
       "      <td>0.000000</td>\n",
       "      <td>0.000075</td>\n",
       "      <td>0.5371</td>\n",
       "    </tr>\n",
       "    <tr>\n",
       "      <th>1971-01-13</th>\n",
       "      <td>0.5373</td>\n",
       "      <td>0.5371</td>\n",
       "      <td>0.5371</td>\n",
       "      <td>0.5371</td>\n",
       "      <td>0.5371</td>\n",
       "      <td>1.0</td>\n",
       "      <td>0.53692</td>\n",
       "      <td>0.000268</td>\n",
       "      <td>0.000000</td>\n",
       "      <td>0.000186</td>\n",
       "      <td>0.5373</td>\n",
       "    </tr>\n",
       "    <tr>\n",
       "      <th>1971-01-14</th>\n",
       "      <td>0.5372</td>\n",
       "      <td>0.5373</td>\n",
       "      <td>0.5373</td>\n",
       "      <td>0.5373</td>\n",
       "      <td>0.5373</td>\n",
       "      <td>1.0</td>\n",
       "      <td>0.53708</td>\n",
       "      <td>0.000179</td>\n",
       "      <td>0.000372</td>\n",
       "      <td>0.000298</td>\n",
       "      <td>0.5372</td>\n",
       "    </tr>\n",
       "    <tr>\n",
       "      <th>1971-01-15</th>\n",
       "      <td>0.5376</td>\n",
       "      <td>0.5372</td>\n",
       "      <td>0.5372</td>\n",
       "      <td>0.5372</td>\n",
       "      <td>0.5372</td>\n",
       "      <td>1.0</td>\n",
       "      <td>0.53716</td>\n",
       "      <td>0.000089</td>\n",
       "      <td>-0.000186</td>\n",
       "      <td>0.000149</td>\n",
       "      <td>0.5376</td>\n",
       "    </tr>\n",
       "    <tr>\n",
       "      <th>1971-01-18</th>\n",
       "      <td>0.5379</td>\n",
       "      <td>0.5376</td>\n",
       "      <td>0.5376</td>\n",
       "      <td>0.5376</td>\n",
       "      <td>0.5376</td>\n",
       "      <td>1.0</td>\n",
       "      <td>0.53726</td>\n",
       "      <td>0.000207</td>\n",
       "      <td>0.000745</td>\n",
       "      <td>0.000186</td>\n",
       "      <td>0.5379</td>\n",
       "    </tr>\n",
       "  </tbody>\n",
       "</table>\n",
       "</div>"
      ],
      "text/plain": [
       "              open  open_1  close_1  high_1   low_1  volume_1  avg_price_5  \\\n",
       "1971-01-12  0.5371  0.5371   0.5371  0.5371  0.5371       1.0      0.53682   \n",
       "1971-01-13  0.5373  0.5371   0.5371  0.5371  0.5371       1.0      0.53692   \n",
       "1971-01-14  0.5372  0.5373   0.5373  0.5373  0.5373       1.0      0.53708   \n",
       "1971-01-15  0.5376  0.5372   0.5372  0.5372  0.5372       1.0      0.53716   \n",
       "1971-01-18  0.5379  0.5376   0.5376  0.5376  0.5376       1.0      0.53726   \n",
       "\n",
       "            std_price_5  return_1  moving_avg_5   close  \n",
       "1971-01-12     0.000277  0.000000      0.000075  0.5371  \n",
       "1971-01-13     0.000268  0.000000      0.000186  0.5373  \n",
       "1971-01-14     0.000179  0.000372      0.000298  0.5372  \n",
       "1971-01-15     0.000089 -0.000186      0.000149  0.5376  \n",
       "1971-01-18     0.000207  0.000745      0.000186  0.5379  "
      ]
     },
     "execution_count": 8,
     "metadata": {},
     "output_type": "execute_result"
    }
   ],
   "source": [
    "# Display the head of the DataFrame to ensure it's correct\n",
    "data.head()"
   ]
  },
  {
   "cell_type": "code",
   "execution_count": 9,
   "metadata": {
    "scrolled": true
   },
   "outputs": [
    {
     "data": {
      "text/html": [
       "<div>\n",
       "<style scoped>\n",
       "    .dataframe tbody tr th:only-of-type {\n",
       "        vertical-align: middle;\n",
       "    }\n",
       "\n",
       "    .dataframe tbody tr th {\n",
       "        vertical-align: top;\n",
       "    }\n",
       "\n",
       "    .dataframe thead th {\n",
       "        text-align: right;\n",
       "    }\n",
       "</style>\n",
       "<table border=\"1\" class=\"dataframe\">\n",
       "  <thead>\n",
       "    <tr style=\"text-align: right;\">\n",
       "      <th></th>\n",
       "      <th>open</th>\n",
       "      <th>open_1</th>\n",
       "      <th>close_1</th>\n",
       "      <th>high_1</th>\n",
       "      <th>low_1</th>\n",
       "      <th>volume_1</th>\n",
       "      <th>avg_price_5</th>\n",
       "      <th>std_price_5</th>\n",
       "      <th>return_1</th>\n",
       "      <th>moving_avg_5</th>\n",
       "      <th>close</th>\n",
       "    </tr>\n",
       "  </thead>\n",
       "  <tbody>\n",
       "    <tr>\n",
       "      <th>count</th>\n",
       "      <td>12109.000000</td>\n",
       "      <td>12109.000000</td>\n",
       "      <td>12109.000000</td>\n",
       "      <td>12109.000000</td>\n",
       "      <td>12109.000000</td>\n",
       "      <td>12109.000000</td>\n",
       "      <td>12109.000000</td>\n",
       "      <td>12109.000000</td>\n",
       "      <td>12109.000000</td>\n",
       "      <td>12109.000000</td>\n",
       "      <td>12109.000000</td>\n",
       "    </tr>\n",
       "    <tr>\n",
       "      <th>mean</th>\n",
       "      <td>1.073095</td>\n",
       "      <td>1.073047</td>\n",
       "      <td>1.073089</td>\n",
       "      <td>1.076972</td>\n",
       "      <td>1.069197</td>\n",
       "      <td>19608.420233</td>\n",
       "      <td>1.072992</td>\n",
       "      <td>0.005757</td>\n",
       "      <td>0.000081</td>\n",
       "      <td>0.000081</td>\n",
       "      <td>1.073137</td>\n",
       "    </tr>\n",
       "    <tr>\n",
       "      <th>std</th>\n",
       "      <td>0.234166</td>\n",
       "      <td>0.234217</td>\n",
       "      <td>0.234213</td>\n",
       "      <td>0.236284</td>\n",
       "      <td>0.232156</td>\n",
       "      <td>34736.673334</td>\n",
       "      <td>0.234228</td>\n",
       "      <td>0.004082</td>\n",
       "      <td>0.006418</td>\n",
       "      <td>0.002891</td>\n",
       "      <td>0.234163</td>\n",
       "    </tr>\n",
       "    <tr>\n",
       "      <th>min</th>\n",
       "      <td>0.536700</td>\n",
       "      <td>0.536700</td>\n",
       "      <td>0.536700</td>\n",
       "      <td>0.536700</td>\n",
       "      <td>0.536700</td>\n",
       "      <td>1.000000</td>\n",
       "      <td>0.536820</td>\n",
       "      <td>0.000045</td>\n",
       "      <td>-0.056418</td>\n",
       "      <td>-0.019757</td>\n",
       "      <td>0.536700</td>\n",
       "    </tr>\n",
       "    <tr>\n",
       "      <th>25%</th>\n",
       "      <td>0.879200</td>\n",
       "      <td>0.879200</td>\n",
       "      <td>0.879100</td>\n",
       "      <td>0.881900</td>\n",
       "      <td>0.875900</td>\n",
       "      <td>231.000000</td>\n",
       "      <td>0.879140</td>\n",
       "      <td>0.003026</td>\n",
       "      <td>-0.003256</td>\n",
       "      <td>-0.001580</td>\n",
       "      <td>0.879100</td>\n",
       "    </tr>\n",
       "    <tr>\n",
       "      <th>50%</th>\n",
       "      <td>1.110800</td>\n",
       "      <td>1.110800</td>\n",
       "      <td>1.111100</td>\n",
       "      <td>1.115100</td>\n",
       "      <td>1.107080</td>\n",
       "      <td>1891.000000</td>\n",
       "      <td>1.110524</td>\n",
       "      <td>0.004890</td>\n",
       "      <td>0.000000</td>\n",
       "      <td>0.000060</td>\n",
       "      <td>1.111130</td>\n",
       "    </tr>\n",
       "    <tr>\n",
       "      <th>75%</th>\n",
       "      <td>1.257600</td>\n",
       "      <td>1.257600</td>\n",
       "      <td>1.257670</td>\n",
       "      <td>1.263900</td>\n",
       "      <td>1.251900</td>\n",
       "      <td>11866.000000</td>\n",
       "      <td>1.258120</td>\n",
       "      <td>0.007515</td>\n",
       "      <td>0.003352</td>\n",
       "      <td>0.001726</td>\n",
       "      <td>1.257670</td>\n",
       "    </tr>\n",
       "    <tr>\n",
       "      <th>max</th>\n",
       "      <td>1.599500</td>\n",
       "      <td>1.599500</td>\n",
       "      <td>1.599700</td>\n",
       "      <td>1.603800</td>\n",
       "      <td>1.586600</td>\n",
       "      <td>132937.440396</td>\n",
       "      <td>1.591080</td>\n",
       "      <td>0.045390</td>\n",
       "      <td>0.062078</td>\n",
       "      <td>0.020409</td>\n",
       "      <td>1.599700</td>\n",
       "    </tr>\n",
       "  </tbody>\n",
       "</table>\n",
       "</div>"
      ],
      "text/plain": [
       "               open        open_1       close_1        high_1         low_1  \\\n",
       "count  12109.000000  12109.000000  12109.000000  12109.000000  12109.000000   \n",
       "mean       1.073095      1.073047      1.073089      1.076972      1.069197   \n",
       "std        0.234166      0.234217      0.234213      0.236284      0.232156   \n",
       "min        0.536700      0.536700      0.536700      0.536700      0.536700   \n",
       "25%        0.879200      0.879200      0.879100      0.881900      0.875900   \n",
       "50%        1.110800      1.110800      1.111100      1.115100      1.107080   \n",
       "75%        1.257600      1.257600      1.257670      1.263900      1.251900   \n",
       "max        1.599500      1.599500      1.599700      1.603800      1.586600   \n",
       "\n",
       "            volume_1   avg_price_5   std_price_5      return_1  moving_avg_5  \\\n",
       "count   12109.000000  12109.000000  12109.000000  12109.000000  12109.000000   \n",
       "mean    19608.420233      1.072992      0.005757      0.000081      0.000081   \n",
       "std     34736.673334      0.234228      0.004082      0.006418      0.002891   \n",
       "min         1.000000      0.536820      0.000045     -0.056418     -0.019757   \n",
       "25%       231.000000      0.879140      0.003026     -0.003256     -0.001580   \n",
       "50%      1891.000000      1.110524      0.004890      0.000000      0.000060   \n",
       "75%     11866.000000      1.258120      0.007515      0.003352      0.001726   \n",
       "max    132937.440396      1.591080      0.045390      0.062078      0.020409   \n",
       "\n",
       "              close  \n",
       "count  12109.000000  \n",
       "mean       1.073137  \n",
       "std        0.234163  \n",
       "min        0.536700  \n",
       "25%        0.879100  \n",
       "50%        1.111130  \n",
       "75%        1.257670  \n",
       "max        1.599700  "
      ]
     },
     "execution_count": 9,
     "metadata": {},
     "output_type": "execute_result"
    }
   ],
   "source": [
    "data.describe()"
   ]
  },
  {
   "cell_type": "code",
   "execution_count": 10,
   "metadata": {},
   "outputs": [
    {
     "name": "stdout",
     "output_type": "stream",
     "text": [
      "<class 'pandas.core.frame.DataFrame'>\n",
      "DatetimeIndex: 12109 entries, 1971-01-12 to 2019-05-09\n",
      "Data columns (total 11 columns):\n",
      " #   Column        Non-Null Count  Dtype  \n",
      "---  ------        --------------  -----  \n",
      " 0   open          12109 non-null  float64\n",
      " 1   open_1        12109 non-null  float64\n",
      " 2   close_1       12109 non-null  float64\n",
      " 3   high_1        12109 non-null  float64\n",
      " 4   low_1         12109 non-null  float64\n",
      " 5   volume_1      12109 non-null  float64\n",
      " 6   avg_price_5   12109 non-null  float64\n",
      " 7   std_price_5   12109 non-null  float64\n",
      " 8   return_1      12109 non-null  float64\n",
      " 9   moving_avg_5  12109 non-null  float64\n",
      " 10  close         12109 non-null  float64\n",
      "dtypes: float64(11)\n",
      "memory usage: 1.1 MB\n"
     ]
    }
   ],
   "source": [
    "data.info()"
   ]
  },
  {
   "cell_type": "markdown",
   "metadata": {},
   "source": [
    "### Volume Chart\n",
    "Plot trading volume to analyze activity levels, which can give insights into market sentiment."
   ]
  },
  {
   "cell_type": "code",
   "execution_count": 11,
   "metadata": {},
   "outputs": [
    {
     "data": {
      "text/html": [
       "\n",
       "        <iframe\n",
       "            width=\"100%\"\n",
       "            height=\"600\"\n",
       "            src=\"http://localhost:53312\"\n",
       "            frameborder=\"0\"\n",
       "            allowfullscreen\n",
       "            \n",
       "        ></iframe>\n",
       "        "
      ],
      "text/plain": [
       "<IPython.lib.display.IFrame at 0x190cf1812e0>"
      ]
     },
     "execution_count": 11,
     "metadata": {},
     "output_type": "execute_result"
    },
    {
     "name": "stderr",
     "output_type": "stream",
     "text": [
      "127.0.0.1 - - [19/Jul/2024 11:40:21] \"GET / HTTP/1.1\" 200 -\n"
     ]
    }
   ],
   "source": [
    "chart = lc.ChartXY(theme=lc.Themes.Dark, title='EUR/USD Trading Volume')\n",
    "volume_values = data['volume_1'].tolist()  # Assuming 'volume_1' is your volume data\n",
    "\n",
    "volume_series = chart.add_line_series()\n",
    "volume_series.append_samples(x_values, volume_values)\n",
    "volume_series.set_name('Volume')\n",
    "\n",
    "# Axes setup\n",
    "x_axis = chart.get_default_x_axis()\n",
    "x_axis.set_tick_strategy('DateTime')\n",
    "y_axis = chart.get_default_y_axis()\n",
    "y_axis.set_title('Volume')\n",
    "\n",
    "# Open the chart\n",
    "chart.open()\n"
   ]
  },
  {
   "cell_type": "markdown",
   "metadata": {},
   "source": [
    "### Volatility Chart\n",
    "Using the standard deviation of prices to create a chart that shows how volatility changes over time."
   ]
  },
  {
   "cell_type": "code",
   "execution_count": 12,
   "metadata": {},
   "outputs": [
    {
     "data": {
      "text/html": [
       "\n",
       "        <iframe\n",
       "            width=\"100%\"\n",
       "            height=\"600\"\n",
       "            src=\"http://localhost:53313\"\n",
       "            frameborder=\"0\"\n",
       "            allowfullscreen\n",
       "            \n",
       "        ></iframe>\n",
       "        "
      ],
      "text/plain": [
       "<IPython.lib.display.IFrame at 0x190cf181790>"
      ]
     },
     "execution_count": 12,
     "metadata": {},
     "output_type": "execute_result"
    },
    {
     "name": "stderr",
     "output_type": "stream",
     "text": [
      "127.0.0.1 - - [19/Jul/2024 11:40:20] \"GET / HTTP/1.1\" 200 -\n"
     ]
    }
   ],
   "source": [
    "chart = lc.ChartXY(theme=lc.Themes.Dark, title='EUR/USD Price Volatility')\n",
    "volatility_values = data['std_price_5'].tolist()  # 5-day standard deviation of close prices\n",
    "\n",
    "volatility_series = chart.add_line_series()\n",
    "volatility_series.append_samples(x_values, volatility_values)\n",
    "volatility_series.set_name('Volatility')\n",
    "\n",
    "# Axes setup\n",
    "x_axis = chart.get_default_x_axis()\n",
    "x_axis.set_tick_strategy('DateTime')\n",
    "y_axis = chart.get_default_y_axis()\n",
    "y_axis.set_title('Volatility')\n",
    "\n",
    "# Open the chart\n",
    "chart.open()\n"
   ]
  },
  {
   "cell_type": "markdown",
   "metadata": {},
   "source": [
    "### TRAIN AND TEST DATA"
   ]
  },
  {
   "cell_type": "code",
   "execution_count": 13,
   "metadata": {},
   "outputs": [
    {
     "data": {
      "text/html": [
       "<div>\n",
       "<style scoped>\n",
       "    .dataframe tbody tr th:only-of-type {\n",
       "        vertical-align: middle;\n",
       "    }\n",
       "\n",
       "    .dataframe tbody tr th {\n",
       "        vertical-align: top;\n",
       "    }\n",
       "\n",
       "    .dataframe thead th {\n",
       "        text-align: right;\n",
       "    }\n",
       "</style>\n",
       "<table border=\"1\" class=\"dataframe\">\n",
       "  <thead>\n",
       "    <tr style=\"text-align: right;\">\n",
       "      <th></th>\n",
       "      <th>open</th>\n",
       "      <th>open_1</th>\n",
       "      <th>close_1</th>\n",
       "      <th>high_1</th>\n",
       "      <th>low_1</th>\n",
       "      <th>volume_1</th>\n",
       "      <th>avg_price_5</th>\n",
       "      <th>std_price_5</th>\n",
       "      <th>return_1</th>\n",
       "      <th>moving_avg_5</th>\n",
       "      <th>close</th>\n",
       "    </tr>\n",
       "  </thead>\n",
       "  <tbody>\n",
       "    <tr>\n",
       "      <th>count</th>\n",
       "      <td>4941.000000</td>\n",
       "      <td>4941.000000</td>\n",
       "      <td>4941.000000</td>\n",
       "      <td>4941.000000</td>\n",
       "      <td>4941.000000</td>\n",
       "      <td>4941.000000</td>\n",
       "      <td>4941.000000</td>\n",
       "      <td>4941.000000</td>\n",
       "      <td>4941.000000</td>\n",
       "      <td>4941.000000</td>\n",
       "      <td>4941.000000</td>\n",
       "    </tr>\n",
       "    <tr>\n",
       "      <th>mean</th>\n",
       "      <td>1.207845</td>\n",
       "      <td>1.207844</td>\n",
       "      <td>1.207882</td>\n",
       "      <td>1.213555</td>\n",
       "      <td>1.202155</td>\n",
       "      <td>40948.114379</td>\n",
       "      <td>1.207882</td>\n",
       "      <td>0.006470</td>\n",
       "      <td>0.000020</td>\n",
       "      <td>0.000021</td>\n",
       "      <td>1.207885</td>\n",
       "    </tr>\n",
       "    <tr>\n",
       "      <th>std</th>\n",
       "      <td>0.172721</td>\n",
       "      <td>0.172721</td>\n",
       "      <td>0.172677</td>\n",
       "      <td>0.173244</td>\n",
       "      <td>0.172127</td>\n",
       "      <td>40535.398337</td>\n",
       "      <td>0.172545</td>\n",
       "      <td>0.003894</td>\n",
       "      <td>0.006320</td>\n",
       "      <td>0.002745</td>\n",
       "      <td>0.172676</td>\n",
       "    </tr>\n",
       "    <tr>\n",
       "      <th>min</th>\n",
       "      <td>0.827200</td>\n",
       "      <td>0.827200</td>\n",
       "      <td>0.826700</td>\n",
       "      <td>0.832600</td>\n",
       "      <td>0.822700</td>\n",
       "      <td>1.000000</td>\n",
       "      <td>0.833560</td>\n",
       "      <td>0.000365</td>\n",
       "      <td>-0.026604</td>\n",
       "      <td>-0.013307</td>\n",
       "      <td>0.826700</td>\n",
       "    </tr>\n",
       "    <tr>\n",
       "      <th>25%</th>\n",
       "      <td>1.086760</td>\n",
       "      <td>1.086760</td>\n",
       "      <td>1.086720</td>\n",
       "      <td>1.091700</td>\n",
       "      <td>1.080950</td>\n",
       "      <td>9051.000000</td>\n",
       "      <td>1.086860</td>\n",
       "      <td>0.003785</td>\n",
       "      <td>-0.003710</td>\n",
       "      <td>-0.001699</td>\n",
       "      <td>1.086720</td>\n",
       "    </tr>\n",
       "    <tr>\n",
       "      <th>50%</th>\n",
       "      <td>1.232600</td>\n",
       "      <td>1.232600</td>\n",
       "      <td>1.232320</td>\n",
       "      <td>1.238200</td>\n",
       "      <td>1.226040</td>\n",
       "      <td>13905.000000</td>\n",
       "      <td>1.232142</td>\n",
       "      <td>0.005628</td>\n",
       "      <td>0.000106</td>\n",
       "      <td>0.000057</td>\n",
       "      <td>1.232320</td>\n",
       "    </tr>\n",
       "    <tr>\n",
       "      <th>75%</th>\n",
       "      <td>1.336200</td>\n",
       "      <td>1.336200</td>\n",
       "      <td>1.336200</td>\n",
       "      <td>1.341000</td>\n",
       "      <td>1.329910</td>\n",
       "      <td>69037.000000</td>\n",
       "      <td>1.335616</td>\n",
       "      <td>0.008164</td>\n",
       "      <td>0.003518</td>\n",
       "      <td>0.001813</td>\n",
       "      <td>1.336200</td>\n",
       "    </tr>\n",
       "    <tr>\n",
       "      <th>max</th>\n",
       "      <td>1.599500</td>\n",
       "      <td>1.599500</td>\n",
       "      <td>1.599700</td>\n",
       "      <td>1.603800</td>\n",
       "      <td>1.586600</td>\n",
       "      <td>132937.440396</td>\n",
       "      <td>1.591080</td>\n",
       "      <td>0.045328</td>\n",
       "      <td>0.034903</td>\n",
       "      <td>0.020409</td>\n",
       "      <td>1.599700</td>\n",
       "    </tr>\n",
       "  </tbody>\n",
       "</table>\n",
       "</div>"
      ],
      "text/plain": [
       "              open       open_1      close_1       high_1        low_1  \\\n",
       "count  4941.000000  4941.000000  4941.000000  4941.000000  4941.000000   \n",
       "mean      1.207845     1.207844     1.207882     1.213555     1.202155   \n",
       "std       0.172721     0.172721     0.172677     0.173244     0.172127   \n",
       "min       0.827200     0.827200     0.826700     0.832600     0.822700   \n",
       "25%       1.086760     1.086760     1.086720     1.091700     1.080950   \n",
       "50%       1.232600     1.232600     1.232320     1.238200     1.226040   \n",
       "75%       1.336200     1.336200     1.336200     1.341000     1.329910   \n",
       "max       1.599500     1.599500     1.599700     1.603800     1.586600   \n",
       "\n",
       "            volume_1  avg_price_5  std_price_5     return_1  moving_avg_5  \\\n",
       "count    4941.000000  4941.000000  4941.000000  4941.000000   4941.000000   \n",
       "mean    40948.114379     1.207882     0.006470     0.000020      0.000021   \n",
       "std     40535.398337     0.172545     0.003894     0.006320      0.002745   \n",
       "min         1.000000     0.833560     0.000365    -0.026604     -0.013307   \n",
       "25%      9051.000000     1.086860     0.003785    -0.003710     -0.001699   \n",
       "50%     13905.000000     1.232142     0.005628     0.000106      0.000057   \n",
       "75%     69037.000000     1.335616     0.008164     0.003518      0.001813   \n",
       "max    132937.440396     1.591080     0.045328     0.034903      0.020409   \n",
       "\n",
       "             close  \n",
       "count  4941.000000  \n",
       "mean      1.207885  \n",
       "std       0.172676  \n",
       "min       0.826700  \n",
       "25%       1.086720  \n",
       "50%       1.232320  \n",
       "75%       1.336200  \n",
       "max       1.599700  "
      ]
     },
     "execution_count": 13,
     "metadata": {},
     "output_type": "execute_result"
    }
   ],
   "source": [
    "#import datetime module\n",
    "import datetime\n",
    "\n",
    "#segregate data for training\n",
    "start_train = datetime.datetime(1999, 1, 1,0,0)\n",
    "end_train = datetime.datetime(2017, 12, 31, 0, 0)\n",
    "data_train = data.loc[start_train:end_train]\n",
    "data_train.describe()"
   ]
  },
  {
   "cell_type": "code",
   "execution_count": 14,
   "metadata": {
    "scrolled": true
   },
   "outputs": [
    {
     "data": {
      "text/html": [
       "<div>\n",
       "<style scoped>\n",
       "    .dataframe tbody tr th:only-of-type {\n",
       "        vertical-align: middle;\n",
       "    }\n",
       "\n",
       "    .dataframe tbody tr th {\n",
       "        vertical-align: top;\n",
       "    }\n",
       "\n",
       "    .dataframe thead th {\n",
       "        text-align: right;\n",
       "    }\n",
       "</style>\n",
       "<table border=\"1\" class=\"dataframe\">\n",
       "  <thead>\n",
       "    <tr style=\"text-align: right;\">\n",
       "      <th></th>\n",
       "      <th>open</th>\n",
       "      <th>open_1</th>\n",
       "      <th>close_1</th>\n",
       "      <th>high_1</th>\n",
       "      <th>low_1</th>\n",
       "      <th>volume_1</th>\n",
       "      <th>avg_price_5</th>\n",
       "      <th>std_price_5</th>\n",
       "      <th>return_1</th>\n",
       "      <th>moving_avg_5</th>\n",
       "      <th>close</th>\n",
       "    </tr>\n",
       "  </thead>\n",
       "  <tbody>\n",
       "    <tr>\n",
       "      <th>count</th>\n",
       "      <td>349.000000</td>\n",
       "      <td>349.000000</td>\n",
       "      <td>349.000000</td>\n",
       "      <td>349.000000</td>\n",
       "      <td>349.000000</td>\n",
       "      <td>349.000000</td>\n",
       "      <td>349.000000</td>\n",
       "      <td>349.000000</td>\n",
       "      <td>349.000000</td>\n",
       "      <td>349.000000</td>\n",
       "      <td>349.000000</td>\n",
       "    </tr>\n",
       "    <tr>\n",
       "      <th>mean</th>\n",
       "      <td>1.168335</td>\n",
       "      <td>1.168551</td>\n",
       "      <td>1.168404</td>\n",
       "      <td>1.172679</td>\n",
       "      <td>1.164774</td>\n",
       "      <td>85860.709055</td>\n",
       "      <td>1.168790</td>\n",
       "      <td>0.004493</td>\n",
       "      <td>-0.000176</td>\n",
       "      <td>-0.000156</td>\n",
       "      <td>1.168174</td>\n",
       "    </tr>\n",
       "    <tr>\n",
       "      <th>std</th>\n",
       "      <td>0.038680</td>\n",
       "      <td>0.038614</td>\n",
       "      <td>0.038646</td>\n",
       "      <td>0.039068</td>\n",
       "      <td>0.038099</td>\n",
       "      <td>28427.264667</td>\n",
       "      <td>0.038265</td>\n",
       "      <td>0.002091</td>\n",
       "      <td>0.004373</td>\n",
       "      <td>0.001806</td>\n",
       "      <td>0.038700</td>\n",
       "    </tr>\n",
       "    <tr>\n",
       "      <th>min</th>\n",
       "      <td>1.113220</td>\n",
       "      <td>1.113220</td>\n",
       "      <td>1.113130</td>\n",
       "      <td>1.116200</td>\n",
       "      <td>1.111050</td>\n",
       "      <td>698.000000</td>\n",
       "      <td>1.116498</td>\n",
       "      <td>0.001020</td>\n",
       "      <td>-0.019107</td>\n",
       "      <td>-0.004603</td>\n",
       "      <td>1.113130</td>\n",
       "    </tr>\n",
       "    <tr>\n",
       "      <th>25%</th>\n",
       "      <td>1.136580</td>\n",
       "      <td>1.136750</td>\n",
       "      <td>1.136570</td>\n",
       "      <td>1.140910</td>\n",
       "      <td>1.133530</td>\n",
       "      <td>64344.000000</td>\n",
       "      <td>1.136546</td>\n",
       "      <td>0.002958</td>\n",
       "      <td>-0.002896</td>\n",
       "      <td>-0.001444</td>\n",
       "      <td>1.136550</td>\n",
       "    </tr>\n",
       "    <tr>\n",
       "      <th>50%</th>\n",
       "      <td>1.158720</td>\n",
       "      <td>1.158740</td>\n",
       "      <td>1.159300</td>\n",
       "      <td>1.162750</td>\n",
       "      <td>1.154300</td>\n",
       "      <td>79792.000000</td>\n",
       "      <td>1.161040</td>\n",
       "      <td>0.004178</td>\n",
       "      <td>-0.000070</td>\n",
       "      <td>-0.000203</td>\n",
       "      <td>1.158770</td>\n",
       "    </tr>\n",
       "    <tr>\n",
       "      <th>75%</th>\n",
       "      <td>1.195030</td>\n",
       "      <td>1.195030</td>\n",
       "      <td>1.195030</td>\n",
       "      <td>1.200880</td>\n",
       "      <td>1.192600</td>\n",
       "      <td>107336.000000</td>\n",
       "      <td>1.197898</td>\n",
       "      <td>0.005585</td>\n",
       "      <td>0.002727</td>\n",
       "      <td>0.001050</td>\n",
       "      <td>1.194740</td>\n",
       "    </tr>\n",
       "    <tr>\n",
       "      <th>max</th>\n",
       "      <td>1.250730</td>\n",
       "      <td>1.250730</td>\n",
       "      <td>1.250780</td>\n",
       "      <td>1.255540</td>\n",
       "      <td>1.244800</td>\n",
       "      <td>132937.440396</td>\n",
       "      <td>1.243208</td>\n",
       "      <td>0.014850</td>\n",
       "      <td>0.014013</td>\n",
       "      <td>0.005369</td>\n",
       "      <td>1.250780</td>\n",
       "    </tr>\n",
       "  </tbody>\n",
       "</table>\n",
       "</div>"
      ],
      "text/plain": [
       "             open      open_1     close_1      high_1       low_1  \\\n",
       "count  349.000000  349.000000  349.000000  349.000000  349.000000   \n",
       "mean     1.168335    1.168551    1.168404    1.172679    1.164774   \n",
       "std      0.038680    0.038614    0.038646    0.039068    0.038099   \n",
       "min      1.113220    1.113220    1.113130    1.116200    1.111050   \n",
       "25%      1.136580    1.136750    1.136570    1.140910    1.133530   \n",
       "50%      1.158720    1.158740    1.159300    1.162750    1.154300   \n",
       "75%      1.195030    1.195030    1.195030    1.200880    1.192600   \n",
       "max      1.250730    1.250730    1.250780    1.255540    1.244800   \n",
       "\n",
       "            volume_1  avg_price_5  std_price_5    return_1  moving_avg_5  \\\n",
       "count     349.000000   349.000000   349.000000  349.000000    349.000000   \n",
       "mean    85860.709055     1.168790     0.004493   -0.000176     -0.000156   \n",
       "std     28427.264667     0.038265     0.002091    0.004373      0.001806   \n",
       "min       698.000000     1.116498     0.001020   -0.019107     -0.004603   \n",
       "25%     64344.000000     1.136546     0.002958   -0.002896     -0.001444   \n",
       "50%     79792.000000     1.161040     0.004178   -0.000070     -0.000203   \n",
       "75%    107336.000000     1.197898     0.005585    0.002727      0.001050   \n",
       "max    132937.440396     1.243208     0.014850    0.014013      0.005369   \n",
       "\n",
       "            close  \n",
       "count  349.000000  \n",
       "mean     1.168174  \n",
       "std      0.038700  \n",
       "min      1.113130  \n",
       "25%      1.136550  \n",
       "50%      1.158770  \n",
       "75%      1.194740  \n",
       "max      1.250780  "
      ]
     },
     "execution_count": 14,
     "metadata": {},
     "output_type": "execute_result"
    }
   ],
   "source": [
    "#segregate data for validation\n",
    "start_test = datetime.datetime(2018, 1, 1, 0, 0)\n",
    "end_test = datetime.datetime(2019, 6, 7, 0, 0)\n",
    "data_test = data.loc[start_test:end_test]\n",
    "data_test.describe()"
   ]
  },
  {
   "cell_type": "code",
   "execution_count": 15,
   "metadata": {
    "scrolled": true
   },
   "outputs": [
    {
     "data": {
      "text/plain": [
       "((4941, 10), (349, 10), (4941,), (349,))"
      ]
     },
     "execution_count": 15,
     "metadata": {},
     "output_type": "execute_result"
    }
   ],
   "source": [
    "X_train = data_train.drop('close', axis='columns')\n",
    "y_train = data_train.close\n",
    "\n",
    "X_test = data_test.drop('close', axis='columns')\n",
    "y_test = data_test.close\n",
    "\n",
    "#checking the shape of the train and test data\n",
    "X_train.shape, X_test.shape, y_train.shape, y_test.shape"
   ]
  },
  {
   "cell_type": "markdown",
   "metadata": {},
   "source": [
    "### SCALING THE PREDICTOR DATA"
   ]
  },
  {
   "cell_type": "code",
   "execution_count": 16,
   "metadata": {},
   "outputs": [],
   "source": [
    "#initiating standard scaler\n",
    "scaler = StandardScaler()\n",
    "\n",
    "#fit the scaler in training features\n",
    "scaler.fit(X_train)\n",
    "\n",
    "#Rescale both sets using the trained scaler\n",
    "X_scaled_train = scaler.transform(X_train)\n",
    "X_scaled_test = scaler.transform(X_test)"
   ]
  },
  {
   "cell_type": "markdown",
   "metadata": {},
   "source": [
    "### LINEAR REGRESSION (LIN)"
   ]
  },
  {
   "cell_type": "code",
   "execution_count": 17,
   "metadata": {
    "scrolled": true
   },
   "outputs": [
    {
     "name": "stdout",
     "output_type": "stream",
     "text": [
      "RMSE: 0.005\n",
      "MAE: 0.004\n",
      "R^2: 0.983\n"
     ]
    }
   ],
   "source": [
    "lin = LinearRegression()\n",
    "\n",
    "lin.fit(X_scaled_train, y_train)\n",
    "predictions_lin = lin.predict(X_scaled_test)\n",
    "\n",
    "print('RMSE: {0:.3f}'.format(mean_squared_error(y_test, predictions_lin)**0.5))\n",
    "print('MAE: {0:.3f}'.format(mean_absolute_error(y_test, predictions_lin)))\n",
    "print('R^2: {0:.3f}'.format(r2_score(y_test, predictions_lin)))"
   ]
  },
  {
   "cell_type": "code",
   "execution_count": 18,
   "metadata": {},
   "outputs": [
    {
     "data": {
      "text/html": [
       "\n",
       "        <iframe\n",
       "            width=\"100%\"\n",
       "            height=\"600\"\n",
       "            src=\"http://localhost:53314\"\n",
       "            frameborder=\"0\"\n",
       "            allowfullscreen\n",
       "            \n",
       "        ></iframe>\n",
       "        "
      ],
      "text/plain": [
       "<IPython.lib.display.IFrame at 0x190cf058f50>"
      ]
     },
     "execution_count": 18,
     "metadata": {},
     "output_type": "execute_result"
    }
   ],
   "source": [
    "# Assuming 'data_test' and your predictions and truths are properly loaded\n",
    "data_test['timestamp_ms'] = (data_test.index.astype('int64') // 10**6).tolist()\n",
    "\n",
    "# Initialize the LightningChart\n",
    "chart = lc.ChartXY(\n",
    "    theme=lc.Themes.Dark,\n",
    "    title='Euro vs USD - Prediction vs Truth'\n",
    ")\n",
    "\n",
    "# Convert your data to lists (ensure this is done before appending to the series)\n",
    "x_values = data_test['timestamp_ms'].tolist()\n",
    "y_values_true = y_test.tolist()  # Assuming y_test is your true values Series\n",
    "y_values_pred = predictions_lin.tolist()  # Assuming predictions_lin is your predictions Series\n",
    "\n",
    "# Adding series for actual data and predictions\n",
    "series_true = chart.add_line_series()\n",
    "series_true.append_samples(x_values, y_values_true)\n",
    "series_true.set_line_thickness(2)\n",
    "series_true.set_name('Truth')\n",
    "\n",
    "series_pred = chart.add_line_series()\n",
    "series_pred.append_samples(x_values, y_values_pred)\n",
    "series_pred.set_line_thickness(2)\n",
    "series_pred.set_name('Predictions')\n",
    "\n",
    "# Customize the axes\n",
    "x_axis = chart.get_default_x_axis()\n",
    "x_axis.set_tick_strategy('DateTime')\n",
    "x_axis.set_title('Date')\n",
    "\n",
    "y_axis = chart.get_default_y_axis()\n",
    "y_axis.set_title('Values')\n",
    "\n",
    "# Add legend to the chart\n",
    "legend = chart.add_legend()\n",
    "legend.add(series_true)\n",
    "legend.add(series_pred)\n",
    "\n",
    "# Open the chart\n",
    "chart.open()\n"
   ]
  },
  {
   "cell_type": "markdown",
   "metadata": {},
   "source": [
    "### SGD REGRESSOR (SGD)"
   ]
  },
  {
   "cell_type": "code",
   "execution_count": 19,
   "metadata": {},
   "outputs": [
    {
     "name": "stdout",
     "output_type": "stream",
     "text": [
      "{'alpha': 0.0001, 'eta0': 0.01, 'penalty': 'elasticnet'}\n",
      "RMSE: 0.005\n",
      "MAE: 0.004\n",
      "R^2: 0.982\n"
     ]
    }
   ],
   "source": [
    "param_grid = {\n",
    "    'penalty':['l1', 'l2', 'elasticnet'],\n",
    "    \"alpha\": [1e-5, 3e-5, 1e-4],\n",
    "    \"eta0\": [0.01, 0.03, 0.1],\n",
    "}\n",
    "\n",
    "sgd = SGDRegressor()\n",
    "grid_search = GridSearchCV(sgd, param_grid, cv=5, scoring='neg_mean_absolute_error', n_jobs=-1)\n",
    "grid_search.fit(X_scaled_train, y_train)\n",
    "\n",
    "print(grid_search.best_params_)\n",
    "\n",
    "sgd_best = grid_search.best_estimator_\n",
    "#print(grid_search.best_score_)\n",
    "\n",
    "predictions_sgd = sgd_best.predict(X_scaled_test)\n",
    "\n",
    "#evaluating the predictions\n",
    "print('RMSE: {0:.3f}'.format(mean_squared_error(y_test, predictions_sgd)**0.5))\n",
    "print('MAE: {0:.3f}'.format(mean_absolute_error(y_test, predictions_sgd)))\n",
    "print('R^2: {0:.3f}'.format(r2_score(y_test, predictions_sgd)))"
   ]
  },
  {
   "cell_type": "code",
   "execution_count": 20,
   "metadata": {
    "scrolled": false
   },
   "outputs": [
    {
     "data": {
      "text/html": [
       "\n",
       "        <iframe\n",
       "            width=\"100%\"\n",
       "            height=\"600\"\n",
       "            src=\"http://localhost:53317\"\n",
       "            frameborder=\"0\"\n",
       "            allowfullscreen\n",
       "            \n",
       "        ></iframe>\n",
       "        "
      ],
      "text/plain": [
       "<IPython.lib.display.IFrame at 0x190cf09edb0>"
      ]
     },
     "execution_count": 20,
     "metadata": {},
     "output_type": "execute_result"
    }
   ],
   "source": [
    "# Assume your 'data_test' DataFrame and the 'y_test', 'predictions_sgd' are loaded properly\n",
    "data_test['timestamp_ms'] = (data_test.index.astype('int64') // 10**6).tolist()\n",
    "\n",
    "chart = lc.ChartXY(\n",
    "    theme=lc.Themes.Dark,\n",
    "    title='Gold price: Prediction vs Truth - SGD Regressor'\n",
    ")\n",
    "\n",
    "# Ensure conversion to list where required\n",
    "x_values = data_test['timestamp_ms'].tolist()\n",
    "y_test_values = np.array(y_test).tolist()  # Convert to numpy array if not already, then to list\n",
    "predictions_sgd_values = np.array(predictions_sgd).tolist()  # Same as above\n",
    "\n",
    "series_truth = chart.add_line_series()\n",
    "series_truth.append_samples(x_values, y_test_values)\n",
    "series_truth.set_line_thickness(2)\n",
    "series_truth.set_name('Truth')\n",
    "\n",
    "series_sgd = chart.add_line_series()\n",
    "series_sgd.append_samples(x_values, predictions_sgd_values)\n",
    "series_sgd.set_line_thickness(2)\n",
    "series_sgd.set_name('SGD')\n",
    "\n",
    "x_axis = chart.get_default_x_axis()\n",
    "x_axis.set_tick_strategy('DateTime')\n",
    "x_axis.set_title('Date')\n",
    "\n",
    "y_axis = chart.get_default_y_axis()\n",
    "y_axis.set_title('Gold Price (USD)')\n",
    "\n",
    "legend = chart.add_legend()\n",
    "legend.add(series_truth)\n",
    "legend.add(series_sgd)\n",
    "\n",
    "chart.open()"
   ]
  },
  {
   "cell_type": "markdown",
   "metadata": {},
   "source": [
    "### Extreme Gradient Boosting Regressor (XGB)"
   ]
  },
  {
   "cell_type": "code",
   "execution_count": 21,
   "metadata": {},
   "outputs": [
    {
     "name": "stdout",
     "output_type": "stream",
     "text": [
      "Fitting 4 folds for each of 64 candidates, totalling 256 fits\n",
      "Best parameters found:  {'learning_rate': 0.1, 'n_estimators': 200, 'subsample': 1}\n",
      "RMSE: 0.006\n",
      "MAE: 0.005\n",
      "R^2: 0.978\n"
     ]
    },
    {
     "name": "stderr",
     "output_type": "stream",
     "text": [
      "127.0.0.1 - - [19/Jul/2024 11:39:21] \"GET / HTTP/1.1\" 200 -\n"
     ]
    },
    {
     "name": "stderr",
     "output_type": "stream",
     "text": [
      "127.0.0.1 - - [19/Jul/2024 11:39:22] \"GET / HTTP/1.1\" 200 -\n"
     ]
    },
    {
     "name": "stderr",
     "output_type": "stream",
     "text": [
      "127.0.0.1 - - [19/Jul/2024 11:39:22] \"GET / HTTP/1.1\" 200 -\n"
     ]
    }
   ],
   "source": [
    "xgb = XGBRegressor()\n",
    "\n",
    "data_dmatrix = DMatrix(data=X_train,\n",
    "                           label=y_train)\n",
    "\n",
    "xgb_param_grid = {'learning_rate': [0.001, 0.01, 0.1, 1],\n",
    "                  'n_estimators': [50, 100, 200, 300],\n",
    "                  'subsample': [0.3, 0.5, 0.7, 1]}\n",
    "\n",
    "grid_search = GridSearchCV(estimator=xgb,    \n",
    "                        param_grid=xgb_param_grid,\n",
    "                        scoring='neg_mean_squared_error', \n",
    "                        cv=4, \n",
    "                        verbose=1,\n",
    "                       n_jobs=-1)\n",
    "\n",
    "grid_search.fit(X_train, y_train) \n",
    "\n",
    "print(\"Best parameters found: \",grid_search.best_params_)\n",
    "\n",
    "xgb_best = grid_search.best_estimator_\n",
    "\n",
    "xgb_best.fit(X_train,y_train)\n",
    "predictions_xgb = xgb_best.predict(X_test)\n",
    "\n",
    "print('RMSE: {0:.3f}'.format(mean_squared_error(y_test, predictions_xgb)**0.5))\n",
    "print('MAE: {0:.3f}'.format(mean_absolute_error(y_test, predictions_xgb)))\n",
    "print('R^2: {0:.3f}'.format(r2_score(y_test, predictions_xgb)))"
   ]
  },
  {
   "cell_type": "code",
   "execution_count": 22,
   "metadata": {},
   "outputs": [
    {
     "name": "stdout",
     "output_type": "stream",
     "text": [
      "X Values Type: <class 'list'>\n",
      "Y Test Values Type: <class 'list'>\n",
      "Predictions XGB Values Type: <class 'list'>\n"
     ]
    },
    {
     "data": {
      "text/html": [
       "\n",
       "        <iframe\n",
       "            width=\"100%\"\n",
       "            height=\"600\"\n",
       "            src=\"http://localhost:53343\"\n",
       "            frameborder=\"0\"\n",
       "            allowfullscreen\n",
       "            \n",
       "        ></iframe>\n",
       "        "
      ],
      "text/plain": [
       "<IPython.lib.display.IFrame at 0x190cf183a40>"
      ]
     },
     "execution_count": 22,
     "metadata": {},
     "output_type": "execute_result"
    },
    {
     "name": "stderr",
     "output_type": "stream",
     "text": [
      "127.0.0.1 - - [19/Jul/2024 11:40:19] \"GET / HTTP/1.1\" 200 -\n"
     ]
    }
   ],
   "source": [
    "# Make sure your 'data_test', 'y_test', and 'predictions_xgb' are loaded and prepared\n",
    "data_test['timestamp_ms'] = (data_test.index.astype('int64') // 10**6).tolist()\n",
    "\n",
    "# Initialize the LightningChart\n",
    "chart = lc.ChartXY(\n",
    "    theme=lc.Themes.Dark,\n",
    "    title='Gold price: Prediction vs Truth - XGB Regressor'\n",
    ")\n",
    "\n",
    "# Ensure all data used in plotting is converted to lists explicitly\n",
    "x_values = data_test['timestamp_ms'].tolist()\n",
    "y_test_values = np.array(y_test).tolist() if isinstance(y_test, (pd.Series, np.ndarray)) else list(y_test)\n",
    "predictions_xgb_values = np.array(predictions_xgb).tolist() if isinstance(predictions_xgb, (pd.Series, np.ndarray)) else list(predictions_xgb)\n",
    "\n",
    "# Debug to confirm data types\n",
    "print(\"X Values Type:\", type(x_values))\n",
    "print(\"Y Test Values Type:\", type(y_test_values))\n",
    "print(\"Predictions XGB Values Type:\", type(predictions_xgb_values))\n",
    "\n",
    "# Create line series for actual data and predictions\n",
    "series_truth = chart.add_line_series()\n",
    "series_truth.append_samples(x_values, y_test_values)\n",
    "series_truth.set_line_thickness(2)\n",
    "series_truth.set_name('Truth')\n",
    "\n",
    "series_xgb = chart.add_line_series()\n",
    "series_xgb.append_samples(x_values, predictions_xgb_values)\n",
    "series_xgb.set_line_thickness(2)\n",
    "series_xgb.set_name('XGB')\n",
    "\n",
    "# Configure the axes for dates and values\n",
    "x_axis = chart.get_default_x_axis()\n",
    "x_axis.set_tick_strategy('DateTime')\n",
    "x_axis.set_title('Date')\n",
    "\n",
    "y_axis = chart.get_default_y_axis()\n",
    "y_axis.set_title('Gold Price (USD)')\n",
    "\n",
    "# Add a legend to the chart\n",
    "legend = chart.add_legend()\n",
    "legend.add(series_truth)\n",
    "legend.add(series_xgb)\n",
    "\n",
    "# Open the chart\n",
    "chart.open()"
   ]
  },
  {
   "cell_type": "markdown",
   "metadata": {},
   "source": [
    "### Bagging Regressor (BGR)"
   ]
  },
  {
   "cell_type": "code",
   "execution_count": 23,
   "metadata": {},
   "outputs": [
    {
     "name": "stdout",
     "output_type": "stream",
     "text": [
      "\u001b[1;31mInit signature:\u001b[0m\n",
      "\u001b[0mBaggingRegressor\u001b[0m\u001b[1;33m(\u001b[0m\u001b[1;33m\n",
      "\u001b[0m    \u001b[0mestimator\u001b[0m\u001b[1;33m=\u001b[0m\u001b[1;32mNone\u001b[0m\u001b[1;33m,\u001b[0m\u001b[1;33m\n",
      "\u001b[0m    \u001b[0mn_estimators\u001b[0m\u001b[1;33m=\u001b[0m\u001b[1;36m10\u001b[0m\u001b[1;33m,\u001b[0m\u001b[1;33m\n",
      "\u001b[0m    \u001b[1;33m*\u001b[0m\u001b[1;33m,\u001b[0m\u001b[1;33m\n",
      "\u001b[0m    \u001b[0mmax_samples\u001b[0m\u001b[1;33m=\u001b[0m\u001b[1;36m1.0\u001b[0m\u001b[1;33m,\u001b[0m\u001b[1;33m\n",
      "\u001b[0m    \u001b[0mmax_features\u001b[0m\u001b[1;33m=\u001b[0m\u001b[1;36m1.0\u001b[0m\u001b[1;33m,\u001b[0m\u001b[1;33m\n",
      "\u001b[0m    \u001b[0mbootstrap\u001b[0m\u001b[1;33m=\u001b[0m\u001b[1;32mTrue\u001b[0m\u001b[1;33m,\u001b[0m\u001b[1;33m\n",
      "\u001b[0m    \u001b[0mbootstrap_features\u001b[0m\u001b[1;33m=\u001b[0m\u001b[1;32mFalse\u001b[0m\u001b[1;33m,\u001b[0m\u001b[1;33m\n",
      "\u001b[0m    \u001b[0moob_score\u001b[0m\u001b[1;33m=\u001b[0m\u001b[1;32mFalse\u001b[0m\u001b[1;33m,\u001b[0m\u001b[1;33m\n",
      "\u001b[0m    \u001b[0mwarm_start\u001b[0m\u001b[1;33m=\u001b[0m\u001b[1;32mFalse\u001b[0m\u001b[1;33m,\u001b[0m\u001b[1;33m\n",
      "\u001b[0m    \u001b[0mn_jobs\u001b[0m\u001b[1;33m=\u001b[0m\u001b[1;32mNone\u001b[0m\u001b[1;33m,\u001b[0m\u001b[1;33m\n",
      "\u001b[0m    \u001b[0mrandom_state\u001b[0m\u001b[1;33m=\u001b[0m\u001b[1;32mNone\u001b[0m\u001b[1;33m,\u001b[0m\u001b[1;33m\n",
      "\u001b[0m    \u001b[0mverbose\u001b[0m\u001b[1;33m=\u001b[0m\u001b[1;36m0\u001b[0m\u001b[1;33m,\u001b[0m\u001b[1;33m\n",
      "\u001b[0m\u001b[1;33m)\u001b[0m\u001b[1;33m\u001b[0m\u001b[1;33m\u001b[0m\u001b[0m\n",
      "\u001b[1;31mDocstring:\u001b[0m     \n",
      "A Bagging regressor.\n",
      "\n",
      "A Bagging regressor is an ensemble meta-estimator that fits base\n",
      "regressors each on random subsets of the original dataset and then\n",
      "aggregate their individual predictions (either by voting or by averaging)\n",
      "to form a final prediction. Such a meta-estimator can typically be used as\n",
      "a way to reduce the variance of a black-box estimator (e.g., a decision\n",
      "tree), by introducing randomization into its construction procedure and\n",
      "then making an ensemble out of it.\n",
      "\n",
      "This algorithm encompasses several works from the literature. When random\n",
      "subsets of the dataset are drawn as random subsets of the samples, then\n",
      "this algorithm is known as Pasting [1]_. If samples are drawn with\n",
      "replacement, then the method is known as Bagging [2]_. When random subsets\n",
      "of the dataset are drawn as random subsets of the features, then the method\n",
      "is known as Random Subspaces [3]_. Finally, when base estimators are built\n",
      "on subsets of both samples and features, then the method is known as\n",
      "Random Patches [4]_.\n",
      "\n",
      "Read more in the :ref:`User Guide <bagging>`.\n",
      "\n",
      ".. versionadded:: 0.15\n",
      "\n",
      "Parameters\n",
      "----------\n",
      "estimator : object, default=None\n",
      "    The base estimator to fit on random subsets of the dataset.\n",
      "    If None, then the base estimator is a\n",
      "    :class:`~sklearn.tree.DecisionTreeRegressor`.\n",
      "\n",
      "    .. versionadded:: 1.2\n",
      "       `base_estimator` was renamed to `estimator`.\n",
      "\n",
      "n_estimators : int, default=10\n",
      "    The number of base estimators in the ensemble.\n",
      "\n",
      "max_samples : int or float, default=1.0\n",
      "    The number of samples to draw from X to train each base estimator (with\n",
      "    replacement by default, see `bootstrap` for more details).\n",
      "\n",
      "    - If int, then draw `max_samples` samples.\n",
      "    - If float, then draw `max_samples * X.shape[0]` samples.\n",
      "\n",
      "max_features : int or float, default=1.0\n",
      "    The number of features to draw from X to train each base estimator (\n",
      "    without replacement by default, see `bootstrap_features` for more\n",
      "    details).\n",
      "\n",
      "    - If int, then draw `max_features` features.\n",
      "    - If float, then draw `max(1, int(max_features * n_features_in_))` features.\n",
      "\n",
      "bootstrap : bool, default=True\n",
      "    Whether samples are drawn with replacement. If False, sampling\n",
      "    without replacement is performed.\n",
      "\n",
      "bootstrap_features : bool, default=False\n",
      "    Whether features are drawn with replacement.\n",
      "\n",
      "oob_score : bool, default=False\n",
      "    Whether to use out-of-bag samples to estimate\n",
      "    the generalization error. Only available if bootstrap=True.\n",
      "\n",
      "warm_start : bool, default=False\n",
      "    When set to True, reuse the solution of the previous call to fit\n",
      "    and add more estimators to the ensemble, otherwise, just fit\n",
      "    a whole new ensemble. See :term:`the Glossary <warm_start>`.\n",
      "\n",
      "n_jobs : int, default=None\n",
      "    The number of jobs to run in parallel for both :meth:`fit` and\n",
      "    :meth:`predict`. ``None`` means 1 unless in a\n",
      "    :obj:`joblib.parallel_backend` context. ``-1`` means using all\n",
      "    processors. See :term:`Glossary <n_jobs>` for more details.\n",
      "\n",
      "random_state : int, RandomState instance or None, default=None\n",
      "    Controls the random resampling of the original dataset\n",
      "    (sample wise and feature wise).\n",
      "    If the base estimator accepts a `random_state` attribute, a different\n",
      "    seed is generated for each instance in the ensemble.\n",
      "    Pass an int for reproducible output across multiple function calls.\n",
      "    See :term:`Glossary <random_state>`.\n",
      "\n",
      "verbose : int, default=0\n",
      "    Controls the verbosity when fitting and predicting.\n",
      "\n",
      "Attributes\n",
      "----------\n",
      "estimator_ : estimator\n",
      "    The base estimator from which the ensemble is grown.\n",
      "\n",
      "    .. versionadded:: 1.2\n",
      "       `base_estimator_` was renamed to `estimator_`.\n",
      "\n",
      "n_features_in_ : int\n",
      "    Number of features seen during :term:`fit`.\n",
      "\n",
      "    .. versionadded:: 0.24\n",
      "\n",
      "feature_names_in_ : ndarray of shape (`n_features_in_`,)\n",
      "    Names of features seen during :term:`fit`. Defined only when `X`\n",
      "    has feature names that are all strings.\n",
      "\n",
      "    .. versionadded:: 1.0\n",
      "\n",
      "estimators_ : list of estimators\n",
      "    The collection of fitted sub-estimators.\n",
      "\n",
      "estimators_samples_ : list of arrays\n",
      "    The subset of drawn samples (i.e., the in-bag samples) for each base\n",
      "    estimator. Each subset is defined by an array of the indices selected.\n",
      "\n",
      "estimators_features_ : list of arrays\n",
      "    The subset of drawn features for each base estimator.\n",
      "\n",
      "oob_score_ : float\n",
      "    Score of the training dataset obtained using an out-of-bag estimate.\n",
      "    This attribute exists only when ``oob_score`` is True.\n",
      "\n",
      "oob_prediction_ : ndarray of shape (n_samples,)\n",
      "    Prediction computed with out-of-bag estimate on the training\n",
      "    set. If n_estimators is small it might be possible that a data point\n",
      "    was never left out during the bootstrap. In this case,\n",
      "    `oob_prediction_` might contain NaN. This attribute exists only\n",
      "    when ``oob_score`` is True.\n",
      "\n",
      "See Also\n",
      "--------\n",
      "BaggingClassifier : A Bagging classifier.\n",
      "\n",
      "References\n",
      "----------\n",
      "\n",
      ".. [1] L. Breiman, \"Pasting small votes for classification in large\n",
      "       databases and on-line\", Machine Learning, 36(1), 85-103, 1999.\n",
      "\n",
      ".. [2] L. Breiman, \"Bagging predictors\", Machine Learning, 24(2), 123-140,\n",
      "       1996.\n",
      "\n",
      ".. [3] T. Ho, \"The random subspace method for constructing decision\n",
      "       forests\", Pattern Analysis and Machine Intelligence, 20(8), 832-844,\n",
      "       1998.\n",
      "\n",
      ".. [4] G. Louppe and P. Geurts, \"Ensembles on Random Patches\", Machine\n",
      "       Learning and Knowledge Discovery in Databases, 346-361, 2012.\n",
      "\n",
      "Examples\n",
      "--------\n",
      ">>> from sklearn.svm import SVR\n",
      ">>> from sklearn.ensemble import BaggingRegressor\n",
      ">>> from sklearn.datasets import make_regression\n",
      ">>> X, y = make_regression(n_samples=100, n_features=4,\n",
      "...                        n_informative=2, n_targets=1,\n",
      "...                        random_state=0, shuffle=False)\n",
      ">>> regr = BaggingRegressor(estimator=SVR(),\n",
      "...                         n_estimators=10, random_state=0).fit(X, y)\n",
      ">>> regr.predict([[0, 0, 0, 0]])\n",
      "array([-2.8720...])\n",
      "\u001b[1;31mFile:\u001b[0m           c:\\python312\\lib\\site-packages\\sklearn\\ensemble\\_bagging.py\n",
      "\u001b[1;31mType:\u001b[0m           ABCMeta\n",
      "\u001b[1;31mSubclasses:\u001b[0m     "
     ]
    }
   ],
   "source": [
    "BaggingRegressor?"
   ]
  },
  {
   "cell_type": "code",
   "execution_count": 24,
   "metadata": {},
   "outputs": [
    {
     "name": "stdout",
     "output_type": "stream",
     "text": [
      "OOB: 0.998\n",
      "RMSE: 0.005\n",
      "MAE: 0.004\n",
      "R^2: 0.983\n"
     ]
    }
   ],
   "source": [
    "# Assume 'lin' is defined as an instance of a linear regression model\n",
    "bgr = BaggingRegressor(estimator=lin, n_estimators=100, oob_score=True, n_jobs=-1)\n",
    "\n",
    "bgr.fit(X_scaled_train, y_train)\n",
    "predictions_bgr = bgr.predict(X_scaled_test)\n",
    "\n",
    "print('OOB: {0:.3f}'.format(bgr.oob_score_))\n",
    "print('RMSE: {0:.3f}'.format(mean_squared_error(y_test, predictions_bgr)**0.5))\n",
    "print('MAE: {0:.3f}'.format(mean_absolute_error(y_test, predictions_bgr)))\n",
    "print('R^2: {0:.3f}'.format(r2_score(y_test, predictions_bgr)))\n"
   ]
  },
  {
   "cell_type": "code",
   "execution_count": 25,
   "metadata": {
    "scrolled": false
   },
   "outputs": [
    {
     "data": {
      "text/html": [
       "\n",
       "        <iframe\n",
       "            width=\"100%\"\n",
       "            height=\"600\"\n",
       "            src=\"http://localhost:53345\"\n",
       "            frameborder=\"0\"\n",
       "            allowfullscreen\n",
       "            \n",
       "        ></iframe>\n",
       "        "
      ],
      "text/plain": [
       "<IPython.lib.display.IFrame at 0x190cf182360>"
      ]
     },
     "execution_count": 25,
     "metadata": {},
     "output_type": "execute_result"
    },
    {
     "name": "stderr",
     "output_type": "stream",
     "text": [
      "127.0.0.1 - - [19/Jul/2024 11:40:19] \"GET / HTTP/1.1\" 200 -\n"
     ]
    }
   ],
   "source": [
    "# Ensure 'data_test', 'y_test', and 'predictions_bgr' are correctly set up\n",
    "data_test['timestamp_ms'] = (data_test.index.astype('int64') // 10**6).tolist()\n",
    "\n",
    "# Initialize the LightningChart\n",
    "chart = lc.ChartXY(\n",
    "    theme=lc.Themes.Dark,\n",
    "    title='Gold price: Prediction vs Truth - BGR'\n",
    ")\n",
    "\n",
    "# Convert dates for x-axis (timestamps in milliseconds)\n",
    "x_values = data_test['timestamp_ms'].tolist()\n",
    "\n",
    "# Ensure that y-values are lists\n",
    "y_test_values = np.array(y_test).tolist() if isinstance(y_test, (pd.Series, np.ndarray)) else list(y_test)\n",
    "predictions_bgr_values = np.array(predictions_bgr).tolist() if isinstance(predictions_bgr, (pd.Series, np.ndarray)) else list(predictions_bgr)\n",
    "\n",
    "# Adding the actual test data series\n",
    "series_truth = chart.add_line_series()\n",
    "series_truth.append_samples(x_values, y_test_values)\n",
    "series_truth.set_line_thickness(2)\n",
    "series_truth.set_name('Truth')\n",
    "\n",
    "# Adding the BGR predictions series\n",
    "series_bgr = chart.add_line_series()\n",
    "series_bgr.append_samples(x_values, predictions_bgr_values)\n",
    "series_bgr.set_line_thickness(2)\n",
    "series_bgr.set_name('BGR')\n",
    "\n",
    "# Customize the axes\n",
    "x_axis = chart.get_default_x_axis()\n",
    "x_axis.set_tick_strategy('DateTime')\n",
    "x_axis.set_title('Date')\n",
    "\n",
    "y_axis = chart.get_default_y_axis()\n",
    "y_axis.set_title('Gold Price (USD)')\n",
    "\n",
    "# Add a legend to the chart\n",
    "legend = chart.add_legend()\n",
    "legend.add(series_truth)\n",
    "legend.add(series_bgr)\n",
    "\n",
    "# Open the chart\n",
    "chart.open()"
   ]
  },
  {
   "cell_type": "markdown",
   "metadata": {},
   "source": [
    "### Random Forest Regressor (RF)"
   ]
  },
  {
   "cell_type": "code",
   "execution_count": 26,
   "metadata": {},
   "outputs": [
    {
     "name": "stdout",
     "output_type": "stream",
     "text": [
      "{'max_depth': 50, 'min_samples_split': 5}\n",
      "RMSE: 0.006\n",
      "MAE: 0.005\n",
      "R^2: 0.978\n"
     ]
    }
   ],
   "source": [
    "param_grid = {\n",
    "    \"max_depth\": [30, 50],\n",
    "    \"min_samples_split\": [5, 10, 20],\n",
    "\n",
    "}\n",
    "\n",
    "rf = RandomForestRegressor(n_estimators=100)\n",
    "grid_search = GridSearchCV(rf, param_grid, cv=5, scoring='neg_mean_absolute_error', n_jobs=-1)\n",
    "grid_search.fit(X_train, y_train)\n",
    "\n",
    "print(grid_search.best_params_)\n",
    "# print(grid_search.best_score_)\n",
    "\n",
    "rf_best = grid_search.best_estimator_\n",
    "predictions_rf = rf_best.predict(X_test)\n",
    "\n",
    "print('RMSE: {0:.3f}'.format(mean_squared_error(y_test, predictions_rf)**0.5))\n",
    "print('MAE: {0:.3f}'.format(mean_absolute_error(y_test, predictions_rf)))\n",
    "print('R^2: {0:.3f}'.format(r2_score(y_test, predictions_rf)))"
   ]
  },
  {
   "cell_type": "code",
   "execution_count": 27,
   "metadata": {
    "scrolled": false
   },
   "outputs": [
    {
     "data": {
      "text/html": [
       "\n",
       "        <iframe\n",
       "            width=\"100%\"\n",
       "            height=\"600\"\n",
       "            src=\"http://localhost:53358\"\n",
       "            frameborder=\"0\"\n",
       "            allowfullscreen\n",
       "            \n",
       "        ></iframe>\n",
       "        "
      ],
      "text/plain": [
       "<IPython.lib.display.IFrame at 0x190cf0c9a30>"
      ]
     },
     "execution_count": 27,
     "metadata": {},
     "output_type": "execute_result"
    },
    {
     "name": "stderr",
     "output_type": "stream",
     "text": [
      "127.0.0.1 - - [19/Jul/2024 11:40:19] \"GET / HTTP/1.1\" 200 -\n"
     ]
    }
   ],
   "source": [
    "# Assuming 'data_test', 'y_test', and 'predictions_rf' are properly prepared\n",
    "data_test['timestamp_ms'] = (data_test.index.astype('int64') // 10**6).tolist()\n",
    "\n",
    "# Initialize the LightningChart\n",
    "chart = lc.ChartXY(\n",
    "    theme=lc.Themes.Dark,\n",
    "    title='Gold price: Prediction vs Truth - Random Forest'\n",
    ")\n",
    "\n",
    "# Convert dates for x-axis (timestamps in milliseconds)\n",
    "x_values = data_test['timestamp_ms'].tolist()\n",
    "\n",
    "# Ensure that y-values are lists\n",
    "y_test_values = np.array(y_test).tolist() if isinstance(y_test, (pd.Series, np.ndarray)) else list(y_test)\n",
    "predictions_rf_values = np.array(predictions_rf).tolist() if isinstance(predictions_rf, (pd.Series, np.ndarray)) else list(predictions_rf)\n",
    "\n",
    "# Adding the actual test data series\n",
    "series_truth = chart.add_line_series()\n",
    "series_truth.append_samples(x_values, y_test_values)\n",
    "series_truth.set_line_thickness(2)\n",
    "series_truth.set_name('Truth')\n",
    "\n",
    "# Adding the Random Forest predictions series\n",
    "series_rf = chart.add_line_series()\n",
    "series_rf.append_samples(x_values, predictions_rf_values)\n",
    "series_rf.set_line_thickness(2)\n",
    "series_rf.set_name('RF')\n",
    "\n",
    "# Customize the axes\n",
    "x_axis = chart.get_default_x_axis()\n",
    "x_axis.set_tick_strategy('DateTime')\n",
    "x_axis.set_title('Date')\n",
    "\n",
    "y_axis = chart.get_default_y_axis()\n",
    "y_axis.set_title('Gold Price (USD)')\n",
    "\n",
    "# Add a legend to the chart\n",
    "legend = chart.add_legend()\n",
    "legend.add(series_truth)\n",
    "legend.add(series_rf)\n",
    "\n",
    "# Open the chart\n",
    "chart.open()"
   ]
  },
  {
   "cell_type": "code",
   "execution_count": 28,
   "metadata": {},
   "outputs": [
    {
     "name": "stdout",
     "output_type": "stream",
     "text": [
      "The model with the least mean_absolute_error:\n",
      " BGR    0.003999\n",
      "dtype: float64\n"
     ]
    },
    {
     "data": {
      "text/html": [
       "\n",
       "        <iframe\n",
       "            width=\"100%\"\n",
       "            height=\"600\"\n",
       "            src=\"http://localhost:53359\"\n",
       "            frameborder=\"0\"\n",
       "            allowfullscreen\n",
       "            \n",
       "        ></iframe>\n",
       "        "
      ],
      "text/plain": [
       "<IPython.lib.display.IFrame at 0x190cf181850>"
      ]
     },
     "execution_count": 28,
     "metadata": {},
     "output_type": "execute_result"
    },
    {
     "name": "stderr",
     "output_type": "stream",
     "text": [
      "127.0.0.1 - - [19/Jul/2024 11:40:16] \"GET / HTTP/1.1\" 200 -\n"
     ]
    }
   ],
   "source": [
    "# Assuming the predictions and y_test are prepared\n",
    "# Calculate MAE for each model and create a series\n",
    "mae_scoring = pd.Series({\n",
    "    'LIN': mean_absolute_error(y_test, predictions_lin),\n",
    "    'SGD': mean_absolute_error(y_test, predictions_sgd),\n",
    "    'XGB': mean_absolute_error(y_test, predictions_xgb),\n",
    "    'BGR': mean_absolute_error(y_test, predictions_bgr),\n",
    "    'RFR': mean_absolute_error(y_test, predictions_rf)\n",
    "})\n",
    "\n",
    "# Find the model with the minimum MAE\n",
    "mae_min = mae_scoring[mae_scoring == mae_scoring.min()]\n",
    "print('The model with the least mean_absolute_error:\\n', mae_min)\n",
    "\n",
    "# Initialize the LightningChart BarChart\n",
    "chart = lc.BarChart(vertical=True, theme=lc.Themes.Dark)\n",
    "\n",
    "# Prepare data for the bar chart\n",
    "data = [{'category': model, 'value': mae} for model, mae in mae_scoring.items()]\n",
    "\n",
    "# Set data for the chart\n",
    "chart.set_data(data)\n",
    "\n",
    "# Disable sorting to maintain the original order of data\n",
    "chart.set_sorting('disabled')\n",
    "\n",
    "# Set the title for the chart\n",
    "chart.set_title('Mean Absolute Error of Regression Models')\n",
    "\n",
    "# Open the chart\n",
    "chart.open()"
   ]
  },
  {
   "cell_type": "markdown",
   "metadata": {},
   "source": [
    "### Saving, Loading and Predicting with the BGR Model"
   ]
  },
  {
   "cell_type": "code",
   "execution_count": 29,
   "metadata": {
    "scrolled": true
   },
   "outputs": [
    {
     "data": {
      "text/plain": [
       "['bgr_eurusd_10062019.pkl']"
      ]
     },
     "execution_count": 29,
     "metadata": {},
     "output_type": "execute_result"
    }
   ],
   "source": [
    "#saving the BGR model with sklearn:joblib\n",
    "joblib.dump(bgr, 'bgr_eurusd_10062019.pkl')"
   ]
  },
  {
   "cell_type": "code",
   "execution_count": 30,
   "metadata": {},
   "outputs": [],
   "source": [
    "#loading the saved model\n",
    "model = joblib.load('bgr_eurusd_10062019.pkl')"
   ]
  },
  {
   "cell_type": "code",
   "execution_count": 31,
   "metadata": {
    "scrolled": false
   },
   "outputs": [
    {
     "data": {
      "text/html": [
       "\n",
       "        <iframe\n",
       "            width=\"100%\"\n",
       "            height=\"600\"\n",
       "            src=\"http://localhost:53360\"\n",
       "            frameborder=\"0\"\n",
       "            allowfullscreen\n",
       "            \n",
       "        ></iframe>\n",
       "        "
      ],
      "text/plain": [
       "<IPython.lib.display.IFrame at 0x190d3683050>"
      ]
     },
     "execution_count": 31,
     "metadata": {},
     "output_type": "execute_result"
    },
    {
     "name": "stderr",
     "output_type": "stream",
     "text": [
      "127.0.0.1 - - [19/Jul/2024 11:40:16] \"GET / HTTP/1.1\" 200 -\n"
     ]
    }
   ],
   "source": [
    "# Assuming 'X_scaled_test', 'y_test', and 'model' are predefined and model has been trained\n",
    "# 'pred' contains the predictions made by the model\n",
    "pred = model.predict(X_scaled_test)\n",
    "\n",
    "# Convert index to milliseconds for LightningChart, assuming y_test.index is datetime\n",
    "timestamp_ms = (y_test.index.astype('int64') // 10**6).tolist()\n",
    "\n",
    "# Initialize the chart\n",
    "chart = lc.ChartXY(\n",
    "    theme=lc.Themes.Dark,\n",
    "    title='Bagging Regressor Model'\n",
    ")\n",
    "\n",
    "# Adding the truth data series\n",
    "series_truth = chart.add_line_series()\n",
    "series_truth.append_samples(timestamp_ms, y_test.tolist())\n",
    "series_truth.set_line_thickness(2)\n",
    "series_truth.set_name('Truth')\n",
    "\n",
    "# Adding the predicted data series\n",
    "series_predicted = chart.add_line_series()\n",
    "series_predicted.append_samples(timestamp_ms, pred.tolist())\n",
    "series_predicted.set_line_thickness(2)\n",
    "series_predicted.set_name('Predicted')\n",
    "\n",
    "# Customize the axes\n",
    "x_axis = chart.get_default_x_axis()\n",
    "x_axis.set_tick_strategy('DateTime')\n",
    "x_axis.set_title('Date')\n",
    "\n",
    "y_axis = chart.get_default_y_axis()\n",
    "y_axis.set_title('Price')\n",
    "\n",
    "# Add a legend to the chart\n",
    "legend = chart.add_legend()\n",
    "legend.add(series_truth)\n",
    "legend.add(series_predicted)\n",
    "\n",
    "# Open the chart\n",
    "chart.open()"
   ]
  },
  {
   "cell_type": "code",
   "execution_count": 32,
   "metadata": {},
   "outputs": [
    {
     "data": {
      "text/html": [
       "\n",
       "        <iframe\n",
       "            width=\"100%\"\n",
       "            height=\"600\"\n",
       "            src=\"http://localhost:53361\"\n",
       "            frameborder=\"0\"\n",
       "            allowfullscreen\n",
       "            \n",
       "        ></iframe>\n",
       "        "
      ],
      "text/plain": [
       "<IPython.lib.display.IFrame at 0x190d3681f10>"
      ]
     },
     "execution_count": 32,
     "metadata": {},
     "output_type": "execute_result"
    },
    {
     "name": "stderr",
     "output_type": "stream",
     "text": [
      "127.0.0.1 - - [19/Jul/2024 11:40:16] \"GET / HTTP/1.1\" 200 -\n"
     ]
    }
   ],
   "source": [
    "# Assuming 'X_scaled_test', 'y_test', and 'model' are predefined and model has been trained\n",
    "# 'pred' contains the predictions made by the model\n",
    "pred = model.predict(X_scaled_test)\n",
    "\n",
    "# Initialize the LightningChart\n",
    "chart = lc.ScatterChart(\n",
    "    theme=lc.Themes.Dark,\n",
    "    title='Regression Line for EURUSD',\n",
    "    point_shape='circle',\n",
    "    xlabel='True Values',\n",
    "    ylabel='Predicted Values',\n",
    "    individual_colors=False\n",
    ")\n",
    "\n",
    "# Adding the scatter data series\n",
    "series = chart.add_point_series()\n",
    "series.append_samples(y_test.tolist(), pred.tolist())\n",
    "\n",
    "# Adding the regression line\n",
    "line_series = chart.add_line_series()\n",
    "# Create points for the line based on the min and max of the true values\n",
    "min_val = min(y_test)\n",
    "max_val = max(y_test)\n",
    "line_series.append_samples([min_val, max_val], [min_val, max_val])\n",
    "line_series.set_line_thickness(3)\n",
    "line_series.set_name('Regression fit')\n",
    "\n",
    "# Add a legend to the chart and only include the regression fit line\n",
    "legend = chart.add_legend(data=line_series).set_title('')\n",
    "\n",
    "# Open the chart\n",
    "chart.open()"
   ]
  },
  {
   "cell_type": "markdown",
   "metadata": {},
   "source": [
    "### GBR Model for higher performance"
   ]
  },
  {
   "cell_type": "code",
   "execution_count": 33,
   "metadata": {},
   "outputs": [
    {
     "name": "stdout",
     "output_type": "stream",
     "text": [
      "Fitting 3 folds for each of 10 candidates, totalling 30 fits\n"
     ]
    },
    {
     "name": "stdout",
     "output_type": "stream",
     "text": [
      "Gradient Boosting Regressor Metrics:\n",
      "RMSE: 0.0055567249310338055\n",
      "MAE: 0.004357741651547801\n",
      "R²: 0.9793241004672281\n"
     ]
    }
   ],
   "source": [
    "# Setup for Gradient Boosting Regressor using RandomizedSearchCV\n",
    "param_dist_gbr = {\n",
    "    'n_estimators': randint(50, 150),\n",
    "    'max_depth': randint(3, 5),\n",
    "    'learning_rate': [0.05, 0.1],\n",
    "    'subsample': [0.8, 0.95]\n",
    "}\n",
    "\n",
    "# Initialize RandomizedSearchCV\n",
    "random_search_gbr = RandomizedSearchCV(\n",
    "    estimator=GradientBoostingRegressor(random_state=42),\n",
    "    param_distributions=param_dist_gbr,\n",
    "    n_iter=10,  # Number of parameter settings sampled\n",
    "    cv=3,\n",
    "    scoring='neg_mean_squared_error',\n",
    "    n_jobs=-1,\n",
    "    verbose=1\n",
    ")\n",
    "\n",
    "# Fit the model\n",
    "random_search_gbr.fit(X_scaled_train, y_train)\n",
    "best_gbr = random_search_gbr.best_estimator_\n",
    "\n",
    "# Predictions\n",
    "predictions_gbr = best_gbr.predict(X_scaled_test)\n",
    "\n",
    "# Evaluation\n",
    "print('Gradient Boosting Regressor Metrics:')\n",
    "print('RMSE:', mean_squared_error(y_test, predictions_gbr, squared=False))\n",
    "print('MAE:', mean_absolute_error(y_test, predictions_gbr))\n",
    "print('R²:', r2_score(y_test, predictions_gbr))"
   ]
  },
  {
   "cell_type": "code",
   "execution_count": 34,
   "metadata": {},
   "outputs": [
    {
     "data": {
      "text/html": [
       "\n",
       "        <iframe\n",
       "            width=\"100%\"\n",
       "            height=\"600\"\n",
       "            src=\"http://localhost:53367\"\n",
       "            frameborder=\"0\"\n",
       "            allowfullscreen\n",
       "            \n",
       "        ></iframe>\n",
       "        "
      ],
      "text/plain": [
       "<IPython.lib.display.IFrame at 0x190d3681490>"
      ]
     },
     "execution_count": 34,
     "metadata": {},
     "output_type": "execute_result"
    },
    {
     "name": "stderr",
     "output_type": "stream",
     "text": [
      "127.0.0.1 - - [19/Jul/2024 11:40:04] \"GET / HTTP/1.1\" 200 -\n"
     ]
    }
   ],
   "source": [
    "# Assuming 'data_test' and your predictions and truths are properly loaded\n",
    "data_test['timestamp_ms'] = (data_test.index.astype('int64') // 10**6).tolist()\n",
    "\n",
    "# Initialize the LightningChart\n",
    "chart = lc.ChartXY(\n",
    "    theme=lc.Themes.Dark,\n",
    "    title='Euro vs USD - Prediction vs Truth - Gradient Boosting Regressor'\n",
    ")\n",
    "\n",
    "# Convert your data to lists (ensure this is done before appending to the series)\n",
    "x_values = data_test['timestamp_ms'].tolist()\n",
    "y_values_true = y_test.tolist()  # Assuming y_test is your true values Series\n",
    "y_values_pred = predictions_gbr.tolist()  # Assuming predictions_gbr is your predictions Series\n",
    "\n",
    "# Adding series for actual data and predictions\n",
    "series_true = chart.add_line_series()\n",
    "series_true.append_samples(x_values, y_values_true)\n",
    "series_true.set_line_thickness(2)\n",
    "series_true.set_name('Actual')\n",
    "\n",
    "series_pred = chart.add_line_series()\n",
    "series_pred.append_samples(x_values, y_values_pred)\n",
    "series_pred.set_line_thickness(2)\n",
    "series_pred.set_name('Predicted')\n",
    "\n",
    "# Customize the axes\n",
    "x_axis = chart.get_default_x_axis()\n",
    "x_axis.set_tick_strategy('DateTime')\n",
    "x_axis.set_title('Date')\n",
    "\n",
    "y_axis = chart.get_default_y_axis()\n",
    "y_axis.set_title('EUR/USD Exchange Rate')\n",
    "\n",
    "# Add legend to the chart\n",
    "legend = chart.add_legend()\n",
    "legend.add(series_true)\n",
    "legend.add(series_pred)\n",
    "\n",
    "# Open the chart\n",
    "chart.open()"
   ]
  }
 ],
 "metadata": {
  "kernelspec": {
   "display_name": "Python 3",
   "language": "python",
   "name": "python3"
  },
  "language_info": {
   "codemirror_mode": {
    "name": "ipython",
    "version": 3
   },
   "file_extension": ".py",
   "mimetype": "text/x-python",
   "name": "python",
   "nbconvert_exporter": "python",
   "pygments_lexer": "ipython3",
   "version": "3.12.2"
  }
 },
 "nbformat": 4,
 "nbformat_minor": 1
}
